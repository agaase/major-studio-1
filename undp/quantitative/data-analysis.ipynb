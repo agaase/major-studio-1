{
 "cells": [
  {
   "cell_type": "code",
   "execution_count": 38,
   "metadata": {
    "collapsed": false
   },
   "outputs": [],
   "source": [
    "import pandas as pd\n",
    "import json\n",
    "from pandas.io.json import json_normalize\n",
    "import urllib.request as rq\n",
    "import json\n",
    "import os\n",
    "import matplotlib.pyplot as plt\n",
    "pd.set_option(\"display.max_columns\",100)"
   ]
  },
  {
   "cell_type": "code",
   "execution_count": 9,
   "metadata": {
    "collapsed": true
   },
   "outputs": [],
   "source": [
    "def fetch_data(index,type):\n",
    "    response = rq.urlopen(os.environ[\"ES_URL\"]+ index+'/'+type+'/_search?size=1000000')\n",
    "    data = json.load(response)   \n",
    "    data = data[\"hits\"][\"hits\"]\n",
    "    df = json_normalize(data)\n",
    "    return df"
   ]
  },
  {
   "cell_type": "markdown",
   "metadata": {},
   "source": [
    "## Individual conflict events"
   ]
  },
  {
   "cell_type": "code",
   "execution_count": 11,
   "metadata": {
    "collapsed": false
   },
   "outputs": [],
   "source": [
    "df = fetch_data(\"ucdp\",\"event\")"
   ]
  },
  {
   "cell_type": "code",
   "execution_count": 14,
   "metadata": {
    "collapsed": false
   },
   "outputs": [
    {
     "name": "stdout",
     "output_type": "stream",
     "text": [
      "(32834, 24)\n",
      "Index(['_id', '_index', '_score', '_source.best_est', '_source.ccd',\n",
      "       '_source.clarity', '_source.country', '_source.d_id', '_source.d_name',\n",
      "       '_source.date_end', '_source.date_start', '_source.high_est',\n",
      "       '_source.is_active_conflict', '_source.latitude', '_source.longitude',\n",
      "       '_source.low_est', '_source.side_a', '_source.side_a_id',\n",
      "       '_source.side_b', '_source.side_b_id', '_source.source_article',\n",
      "       '_source.type_of_conflict', '_source.year', '_type'],\n",
      "      dtype='object')\n"
     ]
    }
   ],
   "source": [
    "print(df.shape)\n",
    "print(df.columns)"
   ]
  },
  {
   "cell_type": "markdown",
   "metadata": {},
   "source": [
    "### Looking at individual rows"
   ]
  },
  {
   "cell_type": "code",
   "execution_count": 15,
   "metadata": {
    "collapsed": false
   },
   "outputs": [
    {
     "data": {
      "text/html": [
       "<div>\n",
       "<table border=\"1\" class=\"dataframe\">\n",
       "  <thead>\n",
       "    <tr style=\"text-align: right;\">\n",
       "      <th></th>\n",
       "      <th>_id</th>\n",
       "      <th>_index</th>\n",
       "      <th>_score</th>\n",
       "      <th>_source.best_est</th>\n",
       "      <th>_source.ccd</th>\n",
       "      <th>_source.clarity</th>\n",
       "      <th>_source.country</th>\n",
       "      <th>_source.d_id</th>\n",
       "      <th>_source.d_name</th>\n",
       "      <th>_source.date_end</th>\n",
       "      <th>_source.date_start</th>\n",
       "      <th>_source.high_est</th>\n",
       "      <th>_source.is_active_conflict</th>\n",
       "      <th>_source.latitude</th>\n",
       "      <th>_source.longitude</th>\n",
       "      <th>_source.low_est</th>\n",
       "      <th>_source.side_a</th>\n",
       "      <th>_source.side_a_id</th>\n",
       "      <th>_source.side_b</th>\n",
       "      <th>_source.side_b_id</th>\n",
       "      <th>_source.source_article</th>\n",
       "      <th>_source.type_of_conflict</th>\n",
       "      <th>_source.year</th>\n",
       "      <th>_type</th>\n",
       "    </tr>\n",
       "  </thead>\n",
       "  <tbody>\n",
       "    <tr>\n",
       "      <th>5</th>\n",
       "      <td>AVr7VtB7u8C0brA7OyaB</td>\n",
       "      <td>ucdp</td>\n",
       "      <td>1.0</td>\n",
       "      <td>1</td>\n",
       "      <td>SOM</td>\n",
       "      <td>1</td>\n",
       "      <td>Somalia</td>\n",
       "      <td>940</td>\n",
       "      <td>Government of Somalia - Civilians</td>\n",
       "      <td>2012-11-30</td>\n",
       "      <td>2012-11-28</td>\n",
       "      <td>1</td>\n",
       "      <td>1</td>\n",
       "      <td>-0.358173</td>\n",
       "      <td>42.545365</td>\n",
       "      <td>1</td>\n",
       "      <td>Government of Somalia</td>\n",
       "      <td>95</td>\n",
       "      <td>Civilians</td>\n",
       "      <td>1</td>\n",
       "      <td>BBC Monitoring Africa 1 December 2012 \"Program...</td>\n",
       "      <td>3</td>\n",
       "      <td>2012</td>\n",
       "      <td>event</td>\n",
       "    </tr>\n",
       "    <tr>\n",
       "      <th>6</th>\n",
       "      <td>AVr7VtB7u8C0brA7OyaG</td>\n",
       "      <td>ucdp</td>\n",
       "      <td>1.0</td>\n",
       "      <td>5</td>\n",
       "      <td>SOM</td>\n",
       "      <td>1</td>\n",
       "      <td>Somalia</td>\n",
       "      <td>750</td>\n",
       "      <td>Government of Somalia - Al-Shabaab</td>\n",
       "      <td>2012-02-01</td>\n",
       "      <td>2012-01-29</td>\n",
       "      <td>6</td>\n",
       "      <td>1</td>\n",
       "      <td>4.735833</td>\n",
       "      <td>45.203611</td>\n",
       "      <td>5</td>\n",
       "      <td>Government of Somalia</td>\n",
       "      <td>95</td>\n",
       "      <td>Al-Shabaab</td>\n",
       "      <td>717</td>\n",
       "      <td>BBC Monitoring Africa 1 Feb 2012 \"Ethiopian tr...</td>\n",
       "      <td>1</td>\n",
       "      <td>2012</td>\n",
       "      <td>event</td>\n",
       "    </tr>\n",
       "    <tr>\n",
       "      <th>7</th>\n",
       "      <td>AVr7VtB7u8C0brA7OyaL</td>\n",
       "      <td>ucdp</td>\n",
       "      <td>1.0</td>\n",
       "      <td>12</td>\n",
       "      <td>SOM</td>\n",
       "      <td>1</td>\n",
       "      <td>Somalia</td>\n",
       "      <td>5571</td>\n",
       "      <td>Al-Shabaab - SVA</td>\n",
       "      <td>2011-04-30</td>\n",
       "      <td>2011-04-30</td>\n",
       "      <td>12</td>\n",
       "      <td>1</td>\n",
       "      <td>7.000000</td>\n",
       "      <td>48.000000</td>\n",
       "      <td>12</td>\n",
       "      <td>Al-Shabaab</td>\n",
       "      <td>717</td>\n",
       "      <td>SVA</td>\n",
       "      <td>1147</td>\n",
       "      <td>BBC Monitoring Africa 30 April 2011 \"Fighting ...</td>\n",
       "      <td>2</td>\n",
       "      <td>2011</td>\n",
       "      <td>event</td>\n",
       "    </tr>\n",
       "    <tr>\n",
       "      <th>8</th>\n",
       "      <td>AVr7VtB7u8C0brA7OyaQ</td>\n",
       "      <td>ucdp</td>\n",
       "      <td>1.0</td>\n",
       "      <td>5</td>\n",
       "      <td>SOM</td>\n",
       "      <td>1</td>\n",
       "      <td>Somalia</td>\n",
       "      <td>5571</td>\n",
       "      <td>Al-Shabaab - SVA</td>\n",
       "      <td>2011-01-26</td>\n",
       "      <td>2011-01-26</td>\n",
       "      <td>5</td>\n",
       "      <td>1</td>\n",
       "      <td>4.735833</td>\n",
       "      <td>45.203611</td>\n",
       "      <td>5</td>\n",
       "      <td>Al-Shabaab</td>\n",
       "      <td>717</td>\n",
       "      <td>SVA</td>\n",
       "      <td>1147</td>\n",
       "      <td>BBC Monitoring Africa 27 Jan 2011 \"Regional fo...</td>\n",
       "      <td>2</td>\n",
       "      <td>2011</td>\n",
       "      <td>event</td>\n",
       "    </tr>\n",
       "    <tr>\n",
       "      <th>9</th>\n",
       "      <td>AVr7VtB7u8C0brA7OyaV</td>\n",
       "      <td>ucdp</td>\n",
       "      <td>1.0</td>\n",
       "      <td>5</td>\n",
       "      <td>SOM</td>\n",
       "      <td>1</td>\n",
       "      <td>Somalia</td>\n",
       "      <td>5571</td>\n",
       "      <td>Al-Shabaab - SVA</td>\n",
       "      <td>2011-11-04</td>\n",
       "      <td>2011-11-04</td>\n",
       "      <td>5</td>\n",
       "      <td>1</td>\n",
       "      <td>5.038760</td>\n",
       "      <td>45.289140</td>\n",
       "      <td>3</td>\n",
       "      <td>Al-Shabaab</td>\n",
       "      <td>717</td>\n",
       "      <td>SVA</td>\n",
       "      <td>1147</td>\n",
       "      <td>BBC Monitoring Africa 4 November 2011 \"Three k...</td>\n",
       "      <td>2</td>\n",
       "      <td>2011</td>\n",
       "      <td>event</td>\n",
       "    </tr>\n",
       "  </tbody>\n",
       "</table>\n",
       "</div>"
      ],
      "text/plain": [
       "                    _id _index  _score  _source.best_est _source.ccd  \\\n",
       "5  AVr7VtB7u8C0brA7OyaB   ucdp     1.0                 1         SOM   \n",
       "6  AVr7VtB7u8C0brA7OyaG   ucdp     1.0                 5         SOM   \n",
       "7  AVr7VtB7u8C0brA7OyaL   ucdp     1.0                12         SOM   \n",
       "8  AVr7VtB7u8C0brA7OyaQ   ucdp     1.0                 5         SOM   \n",
       "9  AVr7VtB7u8C0brA7OyaV   ucdp     1.0                 5         SOM   \n",
       "\n",
       "   _source.clarity _source.country _source.d_id  \\\n",
       "5                1         Somalia          940   \n",
       "6                1         Somalia          750   \n",
       "7                1         Somalia         5571   \n",
       "8                1         Somalia         5571   \n",
       "9                1         Somalia         5571   \n",
       "\n",
       "                       _source.d_name _source.date_end _source.date_start  \\\n",
       "5   Government of Somalia - Civilians       2012-11-30         2012-11-28   \n",
       "6  Government of Somalia - Al-Shabaab       2012-02-01         2012-01-29   \n",
       "7                    Al-Shabaab - SVA       2011-04-30         2011-04-30   \n",
       "8                    Al-Shabaab - SVA       2011-01-26         2011-01-26   \n",
       "9                    Al-Shabaab - SVA       2011-11-04         2011-11-04   \n",
       "\n",
       "   _source.high_est  _source.is_active_conflict  _source.latitude  \\\n",
       "5                 1                           1         -0.358173   \n",
       "6                 6                           1          4.735833   \n",
       "7                12                           1          7.000000   \n",
       "8                 5                           1          4.735833   \n",
       "9                 5                           1          5.038760   \n",
       "\n",
       "   _source.longitude  _source.low_est         _source.side_a  \\\n",
       "5          42.545365                1  Government of Somalia   \n",
       "6          45.203611                5  Government of Somalia   \n",
       "7          48.000000               12             Al-Shabaab   \n",
       "8          45.203611                5             Al-Shabaab   \n",
       "9          45.289140                3             Al-Shabaab   \n",
       "\n",
       "  _source.side_a_id _source.side_b _source.side_b_id  \\\n",
       "5                95      Civilians                 1   \n",
       "6                95     Al-Shabaab               717   \n",
       "7               717            SVA              1147   \n",
       "8               717            SVA              1147   \n",
       "9               717            SVA              1147   \n",
       "\n",
       "                              _source.source_article  \\\n",
       "5  BBC Monitoring Africa 1 December 2012 \"Program...   \n",
       "6  BBC Monitoring Africa 1 Feb 2012 \"Ethiopian tr...   \n",
       "7  BBC Monitoring Africa 30 April 2011 \"Fighting ...   \n",
       "8  BBC Monitoring Africa 27 Jan 2011 \"Regional fo...   \n",
       "9  BBC Monitoring Africa 4 November 2011 \"Three k...   \n",
       "\n",
       "   _source.type_of_conflict  _source.year  _type  \n",
       "5                         3          2012  event  \n",
       "6                         1          2012  event  \n",
       "7                         2          2011  event  \n",
       "8                         2          2011  event  \n",
       "9                         2          2011  event  "
      ]
     },
     "execution_count": 15,
     "metadata": {},
     "output_type": "execute_result"
    }
   ],
   "source": [
    "df[5:10]"
   ]
  },
  {
   "cell_type": "markdown",
   "metadata": {},
   "source": [
    "### Finding variation in total violence for different countries"
   ]
  },
  {
   "cell_type": "code",
   "execution_count": 45,
   "metadata": {
    "collapsed": false
   },
   "outputs": [
    {
     "data": {
      "text/plain": [
       "array([ 74559,  33071,      1,   9340,   3971,   3017, 177442,  28760,\n",
       "          168,   1481,  28316,  19549, 201752,  10559,   1780,    934,\n",
       "         6378,  27854,   6831,     69,    445,    263,   5318,   9966,\n",
       "          800,    428,   2279,  61918, 834147, 181821,   2460,  32628,\n",
       "        69618,  11455,      2,  23213,    596,     59,     99,  20573,\n",
       "         7188,     65,    368])"
      ]
     },
     "execution_count": 45,
     "metadata": {},
     "output_type": "execute_result"
    }
   ],
   "source": [
    "violence_countries = df.groupby([\"_source.ccd\"]).sum()[\"_source.high_est\"]\n",
    "violence_countries.values"
   ]
  },
  {
   "cell_type": "code",
   "execution_count": 37,
   "metadata": {
    "collapsed": false
   },
   "outputs": [
    {
     "data": {
      "text/plain": [
       "count        10.000000\n",
       "mean     170060.275247\n",
       "std      289804.009131\n",
       "min           1.000000\n",
       "50%       37651.341860\n",
       "60%       55961.450233\n",
       "80%      219735.874996\n",
       "90%      595101.690000\n",
       "99%      810242.469000\n",
       "max      834147.000000\n",
       "Name: _source.high_est, dtype: float64"
      ]
     },
     "execution_count": 37,
     "metadata": {},
     "output_type": "execute_result"
    }
   ],
   "source": [
    "violence_countries.describe(percentiles=[0.6,0.8,0.9,0.99])"
   ]
  },
  {
   "cell_type": "code",
   "execution_count": 55,
   "metadata": {
    "collapsed": false
   },
   "outputs": [
    {
     "ename": "TypeError",
     "evalue": "bar() missing 1 required positional argument: 'left'",
     "output_type": "error",
     "traceback": [
      "\u001b[0;31m---------------------------------------------------------------------------\u001b[0m",
      "\u001b[0;31mTypeError\u001b[0m                                 Traceback (most recent call last)",
      "\u001b[0;32m<ipython-input-55-9851f9ca61a7>\u001b[0m in \u001b[0;36m<module>\u001b[0;34m()\u001b[0m\n\u001b[0;32m----> 1\u001b[0;31m \u001b[0mplt\u001b[0m\u001b[0;34m.\u001b[0m\u001b[0mbar\u001b[0m\u001b[0;34m(\u001b[0m\u001b[0mheight\u001b[0m\u001b[0;34m=\u001b[0m\u001b[0mviolence_countries\u001b[0m\u001b[0;34m.\u001b[0m\u001b[0mvalues\u001b[0m\u001b[0;34m)\u001b[0m\u001b[0;34m\u001b[0m\u001b[0m\n\u001b[0m\u001b[1;32m      2\u001b[0m \u001b[0mplt\u001b[0m\u001b[0;34m.\u001b[0m\u001b[0mshow\u001b[0m\u001b[0;34m(\u001b[0m\u001b[0;34m)\u001b[0m\u001b[0;34m\u001b[0m\u001b[0m\n",
      "\u001b[0;31mTypeError\u001b[0m: bar() missing 1 required positional argument: 'left'"
     ]
    }
   ],
   "source": [
    "plt.\n",
    "plt.show()"
   ]
  },
  {
   "cell_type": "markdown",
   "metadata": {},
   "source": [
    "## Deaths due to disease"
   ]
  },
  {
   "cell_type": "code",
   "execution_count": 20,
   "metadata": {
    "collapsed": false
   },
   "outputs": [],
   "source": [
    "ddd = fetch_data(\"health\",\"deaths\")"
   ]
  },
  {
   "cell_type": "code",
   "execution_count": 21,
   "metadata": {
    "collapsed": false
   },
   "outputs": [
    {
     "name": "stdout",
     "output_type": "stream",
     "text": [
      "(1275, 7)\n",
      "Index(['_id', '_index', '_score', '_source.ccode', '_source.value',\n",
      "       '_source.yr', '_type'],\n",
      "      dtype='object')\n"
     ]
    }
   ],
   "source": [
    "print(ddd.shape)\n",
    "print(ddd.columns)"
   ]
  },
  {
   "cell_type": "code",
   "execution_count": 31,
   "metadata": {
    "collapsed": false
   },
   "outputs": [
    {
     "data": {
      "text/html": [
       "<div>\n",
       "<table border=\"1\" class=\"dataframe\">\n",
       "  <thead>\n",
       "    <tr style=\"text-align: right;\">\n",
       "      <th></th>\n",
       "      <th>_id</th>\n",
       "      <th>_index</th>\n",
       "      <th>_score</th>\n",
       "      <th>_source.ccode</th>\n",
       "      <th>_source.value</th>\n",
       "      <th>_source.yr</th>\n",
       "      <th>_type</th>\n",
       "    </tr>\n",
       "  </thead>\n",
       "  <tbody>\n",
       "    <tr>\n",
       "      <th>3</th>\n",
       "      <td>AVr7WUC9u8C0brA7O5Ez</td>\n",
       "      <td>health</td>\n",
       "      <td>1.0</td>\n",
       "      <td>BEN</td>\n",
       "      <td>1291.717403</td>\n",
       "      <td>1991</td>\n",
       "      <td>deaths</td>\n",
       "    </tr>\n",
       "    <tr>\n",
       "      <th>4</th>\n",
       "      <td>AVr7WUC9u8C0brA7O5E4</td>\n",
       "      <td>health</td>\n",
       "      <td>1.0</td>\n",
       "      <td>GAB</td>\n",
       "      <td>1219.265629</td>\n",
       "      <td>1991</td>\n",
       "      <td>deaths</td>\n",
       "    </tr>\n",
       "  </tbody>\n",
       "</table>\n",
       "</div>"
      ],
      "text/plain": [
       "                    _id  _index  _score _source.ccode  _source.value  \\\n",
       "3  AVr7WUC9u8C0brA7O5Ez  health     1.0           BEN    1291.717403   \n",
       "4  AVr7WUC9u8C0brA7O5E4  health     1.0           GAB    1219.265629   \n",
       "\n",
       "   _source.yr   _type  \n",
       "3        1991  deaths  \n",
       "4        1991  deaths  "
      ]
     },
     "execution_count": 31,
     "metadata": {},
     "output_type": "execute_result"
    }
   ],
   "source": [
    "ddd[3:5]"
   ]
  },
  {
   "cell_type": "markdown",
   "metadata": {},
   "source": [
    "### Finding variation in data"
   ]
  },
  {
   "cell_type": "code",
   "execution_count": 56,
   "metadata": {
    "collapsed": false
   },
   "outputs": [
    {
     "data": {
      "text/plain": [
       "count    1275.000000\n",
       "mean     1114.740056\n",
       "std       451.388229\n",
       "min       332.977111\n",
       "20%       776.592083\n",
       "50%      1089.457795\n",
       "90%      1641.874760\n",
       "max      9514.815360\n",
       "Name: _source.value, dtype: float64"
      ]
     },
     "execution_count": 56,
     "metadata": {},
     "output_type": "execute_result"
    }
   ],
   "source": [
    "ddd[\"_source.value\"].describe(percentiles=[0.2,0.9])"
   ]
  },
  {
   "cell_type": "markdown",
   "metadata": {},
   "source": [
    "### Finding missing values"
   ]
  },
  {
   "cell_type": "code",
   "execution_count": 82,
   "metadata": {
    "collapsed": false
   },
   "outputs": [
    {
     "name": "stdout",
     "output_type": "stream",
     "text": [
      "count    1275.000000\n",
      "mean     2002.000000\n",
      "std         7.213932\n",
      "min      1990.000000\n",
      "25%      1996.000000\n",
      "50%      2002.000000\n",
      "75%      2008.000000\n",
      "max      2014.000000\n",
      "Name: _source.yr, dtype: float64\n"
     ]
    },
    {
     "data": {
      "text/plain": [
       "count    51.0\n",
       "mean     25.0\n",
       "std       0.0\n",
       "min      25.0\n",
       "25%      25.0\n",
       "50%      25.0\n",
       "75%      25.0\n",
       "max      25.0\n",
       "Name: _source.yr, dtype: float64"
      ]
     },
     "execution_count": 82,
     "metadata": {},
     "output_type": "execute_result"
    }
   ],
   "source": [
    "print(ddd[\"_source.yr\"].describe())\n",
    "ddd[ddd[\"_source.yr\"]>=1989].groupby([\"_source.ccode\"]).count()[\"_source.yr\"].describe()"
   ]
  },
  {
   "cell_type": "markdown",
   "metadata": {},
   "source": [
    "## Primary education enrollment"
   ]
  },
  {
   "cell_type": "code",
   "execution_count": 24,
   "metadata": {
    "collapsed": true
   },
   "outputs": [],
   "source": [
    "edu = fetch_data(\"cr\",\"cr_country_year\")"
   ]
  },
  {
   "cell_type": "code",
   "execution_count": 25,
   "metadata": {
    "collapsed": false
   },
   "outputs": [
    {
     "name": "stdout",
     "output_type": "stream",
     "text": [
      "(1544, 8)\n",
      "Index(['_id', '_index', '_score', '_source.c_name', '_source.ccode',\n",
      "       '_source.value', '_source.yr', '_type'],\n",
      "      dtype='object')\n"
     ]
    }
   ],
   "source": [
    "print(edu.shape)\n",
    "print(edu.columns)"
   ]
  },
  {
   "cell_type": "code",
   "execution_count": 30,
   "metadata": {
    "collapsed": false
   },
   "outputs": [
    {
     "data": {
      "text/html": [
       "<div>\n",
       "<table border=\"1\" class=\"dataframe\">\n",
       "  <thead>\n",
       "    <tr style=\"text-align: right;\">\n",
       "      <th></th>\n",
       "      <th>_id</th>\n",
       "      <th>_index</th>\n",
       "      <th>_score</th>\n",
       "      <th>_source.c_name</th>\n",
       "      <th>_source.ccode</th>\n",
       "      <th>_source.value</th>\n",
       "      <th>_source.yr</th>\n",
       "      <th>_type</th>\n",
       "    </tr>\n",
       "  </thead>\n",
       "  <tbody>\n",
       "    <tr>\n",
       "      <th>3</th>\n",
       "      <td>AVr7WbZgu8C0brA7O5Yu</td>\n",
       "      <td>cr</td>\n",
       "      <td>1.0</td>\n",
       "      <td>Angola</td>\n",
       "      <td>AGO</td>\n",
       "      <td>105.210403</td>\n",
       "      <td>2007</td>\n",
       "      <td>cr_country_year</td>\n",
       "    </tr>\n",
       "    <tr>\n",
       "      <th>4</th>\n",
       "      <td>AVr7WbZgu8C0brA7O5Yz</td>\n",
       "      <td>cr</td>\n",
       "      <td>1.0</td>\n",
       "      <td>Burundi</td>\n",
       "      <td>BDI</td>\n",
       "      <td>28.396400</td>\n",
       "      <td>1971</td>\n",
       "      <td>cr_country_year</td>\n",
       "    </tr>\n",
       "  </tbody>\n",
       "</table>\n",
       "</div>"
      ],
      "text/plain": [
       "                    _id _index  _score _source.c_name _source.ccode  \\\n",
       "3  AVr7WbZgu8C0brA7O5Yu     cr     1.0         Angola           AGO   \n",
       "4  AVr7WbZgu8C0brA7O5Yz     cr     1.0        Burundi           BDI   \n",
       "\n",
       "   _source.value  _source.yr            _type  \n",
       "3     105.210403        2007  cr_country_year  \n",
       "4      28.396400        1971  cr_country_year  "
      ]
     },
     "execution_count": 30,
     "metadata": {},
     "output_type": "execute_result"
    }
   ],
   "source": [
    "edu[3:5]"
   ]
  },
  {
   "cell_type": "markdown",
   "metadata": {},
   "source": [
    "### Finding missing values"
   ]
  },
  {
   "cell_type": "code",
   "execution_count": 85,
   "metadata": {
    "collapsed": false
   },
   "outputs": [
    {
     "name": "stdout",
     "output_type": "stream",
     "text": [
      "count    1544.000000\n",
      "mean     1991.854275\n",
      "std        12.763114\n",
      "min      1970.000000\n",
      "25%      1981.000000\n",
      "50%      1991.000000\n",
      "75%      2003.000000\n",
      "max      2015.000000\n",
      "Name: _source.yr, dtype: float64\n"
     ]
    },
    {
     "data": {
      "text/plain": [
       "count    43.000000\n",
       "mean     20.418605\n",
       "std       6.970115\n",
       "min       1.000000\n",
       "25%      17.000000\n",
       "50%      24.000000\n",
       "75%      25.000000\n",
       "max      26.000000\n",
       "Name: _source.yr, dtype: float64"
      ]
     },
     "execution_count": 85,
     "metadata": {},
     "output_type": "execute_result"
    }
   ],
   "source": [
    "print(edu[\"_source.yr\"].describe())\n",
    "edu[(edu[\"_source.yr\"]>=1989) & (edu[\"_source.yr\"]<=2014)].groupby([\"_source.ccode\"]).count()[\"_source.yr\"].describe()"
   ]
  },
  {
   "cell_type": "markdown",
   "metadata": {},
   "source": [
    "### Finding variation in data"
   ]
  },
  {
   "cell_type": "code",
   "execution_count": 57,
   "metadata": {
    "collapsed": false
   },
   "outputs": [
    {
     "data": {
      "text/plain": [
       "count    1544.000000\n",
       "mean       80.242398\n",
       "std        30.187678\n",
       "min         7.863490\n",
       "20%        50.878506\n",
       "50%        83.734425\n",
       "90%       114.955193\n",
       "max       149.951737\n",
       "Name: _source.value, dtype: float64"
      ]
     },
     "execution_count": 57,
     "metadata": {},
     "output_type": "execute_result"
    }
   ],
   "source": [
    "edu[\"_source.value\"].describe(percentiles=[0.2,0.9])"
   ]
  },
  {
   "cell_type": "markdown",
   "metadata": {},
   "source": [
    "## GINI coeffecient measuring inequality"
   ]
  },
  {
   "cell_type": "code",
   "execution_count": 27,
   "metadata": {
    "collapsed": true
   },
   "outputs": [],
   "source": [
    "ineq = fetch_data(\"ineq\",\"ineq_country_year\")"
   ]
  },
  {
   "cell_type": "code",
   "execution_count": 28,
   "metadata": {
    "collapsed": false
   },
   "outputs": [
    {
     "name": "stdout",
     "output_type": "stream",
     "text": [
      "(299, 8)\n",
      "Index(['_id', '_index', '_score', '_source.c_name', '_source.ccode',\n",
      "       '_source.value', '_source.yr', '_type'],\n",
      "      dtype='object')\n"
     ]
    }
   ],
   "source": [
    "print(ineq.shape)\n",
    "print(ineq.columns)"
   ]
  },
  {
   "cell_type": "code",
   "execution_count": 32,
   "metadata": {
    "collapsed": false
   },
   "outputs": [
    {
     "data": {
      "text/html": [
       "<div>\n",
       "<table border=\"1\" class=\"dataframe\">\n",
       "  <thead>\n",
       "    <tr style=\"text-align: right;\">\n",
       "      <th></th>\n",
       "      <th>_id</th>\n",
       "      <th>_index</th>\n",
       "      <th>_score</th>\n",
       "      <th>_source.c_name</th>\n",
       "      <th>_source.ccode</th>\n",
       "      <th>_source.value</th>\n",
       "      <th>_source.yr</th>\n",
       "      <th>_type</th>\n",
       "    </tr>\n",
       "  </thead>\n",
       "  <tbody>\n",
       "    <tr>\n",
       "      <th>3</th>\n",
       "      <td>AVr7WSjGu8C0brA7O4__</td>\n",
       "      <td>ineq</td>\n",
       "      <td>1.0</td>\n",
       "      <td>Botswana</td>\n",
       "      <td>BWA</td>\n",
       "      <td>49.5</td>\n",
       "      <td>2010</td>\n",
       "      <td>ineq_country_year</td>\n",
       "    </tr>\n",
       "    <tr>\n",
       "      <th>4</th>\n",
       "      <td>AVr7WSjGu8C0brA7O5AB</td>\n",
       "      <td>ineq</td>\n",
       "      <td>1.0</td>\n",
       "      <td>Burkina Faso</td>\n",
       "      <td>BFA</td>\n",
       "      <td>39.0</td>\n",
       "      <td>1995</td>\n",
       "      <td>ineq_country_year</td>\n",
       "    </tr>\n",
       "  </tbody>\n",
       "</table>\n",
       "</div>"
      ],
      "text/plain": [
       "                    _id _index  _score _source.c_name _source.ccode  \\\n",
       "3  AVr7WSjGu8C0brA7O4__   ineq     1.0       Botswana           BWA   \n",
       "4  AVr7WSjGu8C0brA7O5AB   ineq     1.0   Burkina Faso           BFA   \n",
       "\n",
       "   _source.value  _source.yr              _type  \n",
       "3           49.5        2010  ineq_country_year  \n",
       "4           39.0        1995  ineq_country_year  "
      ]
     },
     "execution_count": 32,
     "metadata": {},
     "output_type": "execute_result"
    }
   ],
   "source": [
    "ineq[3:5]"
   ]
  },
  {
   "cell_type": "markdown",
   "metadata": {},
   "source": [
    "### Finding variation in data"
   ]
  },
  {
   "cell_type": "code",
   "execution_count": 58,
   "metadata": {
    "collapsed": false
   },
   "outputs": [
    {
     "data": {
      "text/plain": [
       "count    299.000000\n",
       "mean      47.356522\n",
       "std       10.041831\n",
       "min       28.900000\n",
       "20%       39.000000\n",
       "50%       45.700000\n",
       "90%       60.960000\n",
       "max       77.100000\n",
       "Name: _source.value, dtype: float64"
      ]
     },
     "execution_count": 58,
     "metadata": {},
     "output_type": "execute_result"
    }
   ],
   "source": [
    "ineq[\"_source.value\"].describe(percentiles=[0.2,0.9])"
   ]
  },
  {
   "cell_type": "markdown",
   "metadata": {},
   "source": [
    "### Finding missing values"
   ]
  },
  {
   "cell_type": "code",
   "execution_count": 86,
   "metadata": {
    "collapsed": false
   },
   "outputs": [
    {
     "name": "stdout",
     "output_type": "stream",
     "text": [
      "count     299.000000\n",
      "mean     1988.755853\n",
      "std        17.228544\n",
      "min      1914.000000\n",
      "25%      1977.000000\n",
      "50%      1994.000000\n",
      "75%      2002.000000\n",
      "max      2011.000000\n",
      "Name: _source.yr, dtype: float64\n"
     ]
    },
    {
     "data": {
      "text/plain": [
       "count    49.000000\n",
       "mean      3.795918\n",
       "std       2.245176\n",
       "min       1.000000\n",
       "25%       2.000000\n",
       "50%       4.000000\n",
       "75%       5.000000\n",
       "max       9.000000\n",
       "Name: _source.yr, dtype: float64"
      ]
     },
     "execution_count": 86,
     "metadata": {},
     "output_type": "execute_result"
    }
   ],
   "source": [
    "print(ineq[\"_source.yr\"].describe())\n",
    "ineq[(ineq[\"_source.yr\"]>=1989) & (ineq[\"_source.yr\"]<=2014)].groupby([\"_source.ccode\"]).count()[\"_source.yr\"].describe()"
   ]
  },
  {
   "cell_type": "code",
   "execution_count": null,
   "metadata": {
    "collapsed": true
   },
   "outputs": [],
   "source": []
  }
 ],
 "metadata": {
  "kernelspec": {
   "display_name": "Python 3",
   "language": "python",
   "name": "python3"
  },
  "language_info": {
   "codemirror_mode": {
    "name": "ipython",
    "version": 3
   },
   "file_extension": ".py",
   "mimetype": "text/x-python",
   "name": "python",
   "nbconvert_exporter": "python",
   "pygments_lexer": "ipython3",
   "version": "3.6.0"
  }
 },
 "nbformat": 4,
 "nbformat_minor": 2
}
